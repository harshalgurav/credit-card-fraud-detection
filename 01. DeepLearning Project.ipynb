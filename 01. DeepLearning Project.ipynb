{
 "cells": [
  {
   "cell_type": "markdown",
   "metadata": {
    "id": "AWihdgOKztP1"
   },
   "source": [
    "<center><b><span style=font-size:30px><font color='MediumBlue'><u>Deep Learning Project</u></b></center>"
   ]
  },
  {
   "cell_type": "code",
   "execution_count": 122,
   "metadata": {
    "id": "Hq7GoWU6t_j2"
   },
   "outputs": [],
   "source": [
    "# Importing Libraries\n",
    "\n",
    "import numpy as np\n",
    "import pandas as pd\n",
    "import seaborn as sns\n",
    "import matplotlib.pyplot as plt\n",
    "import warnings\n",
    "warnings.filterwarnings('ignore')"
   ]
  },
  {
   "cell_type": "code",
   "execution_count": 123,
   "metadata": {
    "id": "LX8rU0Tvuf_j"
   },
   "outputs": [],
   "source": [
    "# Reading CSV File\n",
    "\n",
    "df = pd.read_csv('/content/drive/MyDrive/harshal Deep Learning/Churn_Modelling.csv')"
   ]
  },
  {
   "cell_type": "code",
   "execution_count": 124,
   "metadata": {
    "colab": {
     "base_uri": "https://localhost:8080/",
     "height": 206
    },
    "id": "2mEOTFyeugDz",
    "outputId": "980898e1-a8c2-4baf-c6bd-e9d7d24a3615"
   },
   "outputs": [
    {
     "data": {
      "text/html": [
       "\n",
       "  <div id=\"df-2bacc9b1-9548-4014-bfb3-d28bf3fdcd09\">\n",
       "    <div class=\"colab-df-container\">\n",
       "      <div>\n",
       "<style scoped>\n",
       "    .dataframe tbody tr th:only-of-type {\n",
       "        vertical-align: middle;\n",
       "    }\n",
       "\n",
       "    .dataframe tbody tr th {\n",
       "        vertical-align: top;\n",
       "    }\n",
       "\n",
       "    .dataframe thead th {\n",
       "        text-align: right;\n",
       "    }\n",
       "</style>\n",
       "<table border=\"1\" class=\"dataframe\">\n",
       "  <thead>\n",
       "    <tr style=\"text-align: right;\">\n",
       "      <th></th>\n",
       "      <th>RowNumber</th>\n",
       "      <th>CustomerId</th>\n",
       "      <th>Surname</th>\n",
       "      <th>CreditScore</th>\n",
       "      <th>Geography</th>\n",
       "      <th>Gender</th>\n",
       "      <th>Age</th>\n",
       "      <th>Tenure</th>\n",
       "      <th>Balance</th>\n",
       "      <th>NumOfProducts</th>\n",
       "      <th>HasCrCard</th>\n",
       "      <th>IsActiveMember</th>\n",
       "      <th>EstimatedSalary</th>\n",
       "      <th>Exited</th>\n",
       "    </tr>\n",
       "  </thead>\n",
       "  <tbody>\n",
       "    <tr>\n",
       "      <th>0</th>\n",
       "      <td>1</td>\n",
       "      <td>15634602</td>\n",
       "      <td>Hargrave</td>\n",
       "      <td>619</td>\n",
       "      <td>France</td>\n",
       "      <td>Female</td>\n",
       "      <td>42</td>\n",
       "      <td>2</td>\n",
       "      <td>0.00</td>\n",
       "      <td>1</td>\n",
       "      <td>1</td>\n",
       "      <td>1</td>\n",
       "      <td>101348.88</td>\n",
       "      <td>1</td>\n",
       "    </tr>\n",
       "    <tr>\n",
       "      <th>1</th>\n",
       "      <td>2</td>\n",
       "      <td>15647311</td>\n",
       "      <td>Hill</td>\n",
       "      <td>608</td>\n",
       "      <td>Spain</td>\n",
       "      <td>Female</td>\n",
       "      <td>41</td>\n",
       "      <td>1</td>\n",
       "      <td>83807.86</td>\n",
       "      <td>1</td>\n",
       "      <td>0</td>\n",
       "      <td>1</td>\n",
       "      <td>112542.58</td>\n",
       "      <td>0</td>\n",
       "    </tr>\n",
       "    <tr>\n",
       "      <th>2</th>\n",
       "      <td>3</td>\n",
       "      <td>15619304</td>\n",
       "      <td>Onio</td>\n",
       "      <td>502</td>\n",
       "      <td>France</td>\n",
       "      <td>Female</td>\n",
       "      <td>42</td>\n",
       "      <td>8</td>\n",
       "      <td>159660.80</td>\n",
       "      <td>3</td>\n",
       "      <td>1</td>\n",
       "      <td>0</td>\n",
       "      <td>113931.57</td>\n",
       "      <td>1</td>\n",
       "    </tr>\n",
       "    <tr>\n",
       "      <th>3</th>\n",
       "      <td>4</td>\n",
       "      <td>15701354</td>\n",
       "      <td>Boni</td>\n",
       "      <td>699</td>\n",
       "      <td>France</td>\n",
       "      <td>Female</td>\n",
       "      <td>39</td>\n",
       "      <td>1</td>\n",
       "      <td>0.00</td>\n",
       "      <td>2</td>\n",
       "      <td>0</td>\n",
       "      <td>0</td>\n",
       "      <td>93826.63</td>\n",
       "      <td>0</td>\n",
       "    </tr>\n",
       "    <tr>\n",
       "      <th>4</th>\n",
       "      <td>5</td>\n",
       "      <td>15737888</td>\n",
       "      <td>Mitchell</td>\n",
       "      <td>850</td>\n",
       "      <td>Spain</td>\n",
       "      <td>Female</td>\n",
       "      <td>43</td>\n",
       "      <td>2</td>\n",
       "      <td>125510.82</td>\n",
       "      <td>1</td>\n",
       "      <td>1</td>\n",
       "      <td>1</td>\n",
       "      <td>79084.10</td>\n",
       "      <td>0</td>\n",
       "    </tr>\n",
       "  </tbody>\n",
       "</table>\n",
       "</div>\n",
       "      <button class=\"colab-df-convert\" onclick=\"convertToInteractive('df-2bacc9b1-9548-4014-bfb3-d28bf3fdcd09')\"\n",
       "              title=\"Convert this dataframe to an interactive table.\"\n",
       "              style=\"display:none;\">\n",
       "        \n",
       "  <svg xmlns=\"http://www.w3.org/2000/svg\" height=\"24px\"viewBox=\"0 0 24 24\"\n",
       "       width=\"24px\">\n",
       "    <path d=\"M0 0h24v24H0V0z\" fill=\"none\"/>\n",
       "    <path d=\"M18.56 5.44l.94 2.06.94-2.06 2.06-.94-2.06-.94-.94-2.06-.94 2.06-2.06.94zm-11 1L8.5 8.5l.94-2.06 2.06-.94-2.06-.94L8.5 2.5l-.94 2.06-2.06.94zm10 10l.94 2.06.94-2.06 2.06-.94-2.06-.94-.94-2.06-.94 2.06-2.06.94z\"/><path d=\"M17.41 7.96l-1.37-1.37c-.4-.4-.92-.59-1.43-.59-.52 0-1.04.2-1.43.59L10.3 9.45l-7.72 7.72c-.78.78-.78 2.05 0 2.83L4 21.41c.39.39.9.59 1.41.59.51 0 1.02-.2 1.41-.59l7.78-7.78 2.81-2.81c.8-.78.8-2.07 0-2.86zM5.41 20L4 18.59l7.72-7.72 1.47 1.35L5.41 20z\"/>\n",
       "  </svg>\n",
       "      </button>\n",
       "      \n",
       "  <style>\n",
       "    .colab-df-container {\n",
       "      display:flex;\n",
       "      flex-wrap:wrap;\n",
       "      gap: 12px;\n",
       "    }\n",
       "\n",
       "    .colab-df-convert {\n",
       "      background-color: #E8F0FE;\n",
       "      border: none;\n",
       "      border-radius: 50%;\n",
       "      cursor: pointer;\n",
       "      display: none;\n",
       "      fill: #1967D2;\n",
       "      height: 32px;\n",
       "      padding: 0 0 0 0;\n",
       "      width: 32px;\n",
       "    }\n",
       "\n",
       "    .colab-df-convert:hover {\n",
       "      background-color: #E2EBFA;\n",
       "      box-shadow: 0px 1px 2px rgba(60, 64, 67, 0.3), 0px 1px 3px 1px rgba(60, 64, 67, 0.15);\n",
       "      fill: #174EA6;\n",
       "    }\n",
       "\n",
       "    [theme=dark] .colab-df-convert {\n",
       "      background-color: #3B4455;\n",
       "      fill: #D2E3FC;\n",
       "    }\n",
       "\n",
       "    [theme=dark] .colab-df-convert:hover {\n",
       "      background-color: #434B5C;\n",
       "      box-shadow: 0px 1px 3px 1px rgba(0, 0, 0, 0.15);\n",
       "      filter: drop-shadow(0px 1px 2px rgba(0, 0, 0, 0.3));\n",
       "      fill: #FFFFFF;\n",
       "    }\n",
       "  </style>\n",
       "\n",
       "      <script>\n",
       "        const buttonEl =\n",
       "          document.querySelector('#df-2bacc9b1-9548-4014-bfb3-d28bf3fdcd09 button.colab-df-convert');\n",
       "        buttonEl.style.display =\n",
       "          google.colab.kernel.accessAllowed ? 'block' : 'none';\n",
       "\n",
       "        async function convertToInteractive(key) {\n",
       "          const element = document.querySelector('#df-2bacc9b1-9548-4014-bfb3-d28bf3fdcd09');\n",
       "          const dataTable =\n",
       "            await google.colab.kernel.invokeFunction('convertToInteractive',\n",
       "                                                     [key], {});\n",
       "          if (!dataTable) return;\n",
       "\n",
       "          const docLinkHtml = 'Like what you see? Visit the ' +\n",
       "            '<a target=\"_blank\" href=https://colab.research.google.com/notebooks/data_table.ipynb>data table notebook</a>'\n",
       "            + ' to learn more about interactive tables.';\n",
       "          element.innerHTML = '';\n",
       "          dataTable['output_type'] = 'display_data';\n",
       "          await google.colab.output.renderOutput(dataTable, element);\n",
       "          const docLink = document.createElement('div');\n",
       "          docLink.innerHTML = docLinkHtml;\n",
       "          element.appendChild(docLink);\n",
       "        }\n",
       "      </script>\n",
       "    </div>\n",
       "  </div>\n",
       "  "
      ],
      "text/plain": [
       "   RowNumber  CustomerId   Surname  CreditScore Geography  Gender  Age  \\\n",
       "0          1    15634602  Hargrave          619    France  Female   42   \n",
       "1          2    15647311      Hill          608     Spain  Female   41   \n",
       "2          3    15619304      Onio          502    France  Female   42   \n",
       "3          4    15701354      Boni          699    France  Female   39   \n",
       "4          5    15737888  Mitchell          850     Spain  Female   43   \n",
       "\n",
       "   Tenure    Balance  NumOfProducts  HasCrCard  IsActiveMember  \\\n",
       "0       2       0.00              1          1               1   \n",
       "1       1   83807.86              1          0               1   \n",
       "2       8  159660.80              3          1               0   \n",
       "3       1       0.00              2          0               0   \n",
       "4       2  125510.82              1          1               1   \n",
       "\n",
       "   EstimatedSalary  Exited  \n",
       "0        101348.88       1  \n",
       "1        112542.58       0  \n",
       "2        113931.57       1  \n",
       "3         93826.63       0  \n",
       "4         79084.10       0  "
      ]
     },
     "execution_count": 124,
     "metadata": {},
     "output_type": "execute_result"
    }
   ],
   "source": [
    "# Displaying first 5 records\n",
    "\n",
    "df.head()"
   ]
  },
  {
   "cell_type": "code",
   "execution_count": 125,
   "metadata": {
    "colab": {
     "base_uri": "https://localhost:8080/",
     "height": 0
    },
    "id": "AMKAI4_DugH5",
    "outputId": "13b6f33b-7e4f-46b2-95de-f77fe67eaca6"
   },
   "outputs": [
    {
     "data": {
      "text/plain": [
       "(10000, 14)"
      ]
     },
     "execution_count": 125,
     "metadata": {},
     "output_type": "execute_result"
    }
   ],
   "source": [
    "# Size of Dataset\n",
    "\n",
    "df.shape"
   ]
  },
  {
   "cell_type": "code",
   "execution_count": 126,
   "metadata": {
    "id": "5P21nd08ugMI"
   },
   "outputs": [],
   "source": [
    "# Deleting unwanted features permanently in dataset\n",
    "\n",
    "df.drop([\"RowNumber\",\"CustomerId\",\"Surname\"],axis=1,inplace=True)"
   ]
  },
  {
   "cell_type": "code",
   "execution_count": 127,
   "metadata": {
    "colab": {
     "base_uri": "https://localhost:8080/",
     "height": 0
    },
    "id": "dTVhZ-31vwPw",
    "outputId": "82fc1902-6a95-4ca5-9eb7-267fc0b25148"
   },
   "outputs": [
    {
     "data": {
      "text/plain": [
       "CreditScore        0\n",
       "Geography          0\n",
       "Gender             0\n",
       "Age                0\n",
       "Tenure             0\n",
       "Balance            0\n",
       "NumOfProducts      0\n",
       "HasCrCard          0\n",
       "IsActiveMember     0\n",
       "EstimatedSalary    0\n",
       "Exited             0\n",
       "dtype: int64"
      ]
     },
     "execution_count": 127,
     "metadata": {},
     "output_type": "execute_result"
    }
   ],
   "source": [
    "# Checking Null Values\n",
    "\n",
    "df.isnull().sum()"
   ]
  },
  {
   "cell_type": "code",
   "execution_count": 128,
   "metadata": {
    "colab": {
     "base_uri": "https://localhost:8080/",
     "height": 342
    },
    "id": "YOTjZXj-v1ph",
    "outputId": "562884ca-cf8b-4540-b76c-6a91639541f8"
   },
   "outputs": [
    {
     "data": {
      "image/png": "[encoded data removed]",
      "text/plain": [
       "<Figure size 432x288 with 2 Axes>"
      ]
     },
     "metadata": {
      "needs_background": "light"
     },
     "output_type": "display_data"
    }
   ],
   "source": [
    "# Visualizing the Null value\n",
    "\n",
    "sns.heatmap(df.isnull())\n",
    "plt.show()"
   ]
  },
  {
   "cell_type": "code",
   "execution_count": 129,
   "metadata": {
    "colab": {
     "base_uri": "https://localhost:8080/",
     "height": 0
    },
    "id": "8UdsZ0ZGwE9N",
    "outputId": "3a852b71-da17-448e-ca7d-6d270bc15f6d"
   },
   "outputs": [
    {
     "data": {
      "text/plain": [
       "0"
      ]
     },
     "execution_count": 129,
     "metadata": {},
     "output_type": "execute_result"
    }
   ],
   "source": [
    "# To check the Duplicates Rows\n",
    "\n",
    "df.duplicated().sum()"
   ]
  },
  {
   "cell_type": "code",
   "execution_count": 130,
   "metadata": {
    "colab": {
     "base_uri": "https://localhost:8080/",
     "height": 0
    },
    "id": "vG4Y0X1PwFNP",
    "outputId": "05ff3f45-0ba6-486b-f88c-820139075374"
   },
   "outputs": [
    {
     "data": {
      "text/plain": [
       "CreditScore          int64\n",
       "Geography           object\n",
       "Gender              object\n",
       "Age                  int64\n",
       "Tenure               int64\n",
       "Balance            float64\n",
       "NumOfProducts        int64\n",
       "HasCrCard            int64\n",
       "IsActiveMember       int64\n",
       "EstimatedSalary    float64\n",
       "Exited               int64\n",
       "dtype: object"
      ]
     },
     "execution_count": 130,
     "metadata": {},
     "output_type": "execute_result"
    }
   ],
   "source": [
    "# To show the Datatypes\n",
    "\n",
    "df.dtypes"
   ]
  },
  {
   "cell_type": "markdown",
   "metadata": {},
   "source": [
    "<b><span style=font-size:20px>- <font color='LimeGreen'>Conclusion.</font></span></b>\n",
    "- No Null Values found in columns.\n",
    "- Found Numberical and Categorical type data in the dataset.\n",
    "- We will split the dataset and use Label Encoder to convert categorical data into Numerical data as machine understands numerical language."
   ]
  },
  {
   "cell_type": "markdown",
   "metadata": {},
   "source": [
    "  "
   ]
  },
  {
   "cell_type": "code",
   "execution_count": 131,
   "metadata": {
    "colab": {
     "base_uri": "https://localhost:8080/",
     "height": 0
    },
    "id": "D0SgFlOWwT3F",
    "outputId": "be6c8d91-9da8-4cff-ff00-085fea46895a"
   },
   "outputs": [
    {
     "data": {
      "text/plain": [
       "Geography    object\n",
       "Gender       object\n",
       "dtype: object"
      ]
     },
     "execution_count": 131,
     "metadata": {},
     "output_type": "execute_result"
    }
   ],
   "source": [
    "# Spliting numerical and categorical Data\n",
    "\n",
    "df_cat = df.select_dtypes(object)\n",
    "df_cat.dtypes"
   ]
  },
  {
   "cell_type": "code",
   "execution_count": 132,
   "metadata": {
    "colab": {
     "base_uri": "https://localhost:8080/",
     "height": 0
    },
    "id": "z_yfZJBRwxJV",
    "outputId": "702d59f6-80fe-4d11-9c1b-1de88e3a3a67"
   },
   "outputs": [
    {
     "data": {
      "text/plain": [
       "CreditScore          int64\n",
       "Age                  int64\n",
       "Tenure               int64\n",
       "Balance            float64\n",
       "NumOfProducts        int64\n",
       "HasCrCard            int64\n",
       "IsActiveMember       int64\n",
       "EstimatedSalary    float64\n",
       "Exited               int64\n",
       "dtype: object"
      ]
     },
     "execution_count": 132,
     "metadata": {},
     "output_type": "execute_result"
    }
   ],
   "source": [
    "df_num = df.select_dtypes(['int64','float64'])\n",
    "df_num.dtypes"
   ]
  },
  {
   "cell_type": "code",
   "execution_count": 133,
   "metadata": {
    "id": "2Hd8G2YvxEPH"
   },
   "outputs": [],
   "source": [
    "# Converting Categorical data into Numerical data\n",
    "\n",
    "from sklearn.preprocessing import LabelEncoder\n",
    "for col in df_cat:\n",
    "  le = LabelEncoder()\n",
    "  df_cat[col] = le.fit_transform(df_cat[[col]])"
   ]
  },
  {
   "cell_type": "code",
   "execution_count": 134,
   "metadata": {
    "colab": {
     "base_uri": "https://localhost:8080/",
     "height": 206
    },
    "id": "dKQosMWmx9t-",
    "outputId": "47f372d8-9ffc-430b-ca7a-5a7ba0eb4104"
   },
   "outputs": [
    {
     "data": {
      "text/html": [
       "\n",
       "  <div id=\"df-2988c304-104f-4e02-b121-07d538a6fd8e\">\n",
       "    <div class=\"colab-df-container\">\n",
       "      <div>\n",
       "<style scoped>\n",
       "    .dataframe tbody tr th:only-of-type {\n",
       "        vertical-align: middle;\n",
       "    }\n",
       "\n",
       "    .dataframe tbody tr th {\n",
       "        vertical-align: top;\n",
       "    }\n",
       "\n",
       "    .dataframe thead th {\n",
       "        text-align: right;\n",
       "    }\n",
       "</style>\n",
       "<table border=\"1\" class=\"dataframe\">\n",
       "  <thead>\n",
       "    <tr style=\"text-align: right;\">\n",
       "      <th></th>\n",
       "      <th>Geography</th>\n",
       "      <th>Gender</th>\n",
       "      <th>CreditScore</th>\n",
       "      <th>Age</th>\n",
       "      <th>Tenure</th>\n",
       "      <th>Balance</th>\n",
       "      <th>NumOfProducts</th>\n",
       "      <th>HasCrCard</th>\n",
       "      <th>IsActiveMember</th>\n",
       "      <th>EstimatedSalary</th>\n",
       "      <th>Exited</th>\n",
       "    </tr>\n",
       "  </thead>\n",
       "  <tbody>\n",
       "    <tr>\n",
       "      <th>0</th>\n",
       "      <td>0</td>\n",
       "      <td>0</td>\n",
       "      <td>619</td>\n",
       "      <td>42</td>\n",
       "      <td>2</td>\n",
       "      <td>0.00</td>\n",
       "      <td>1</td>\n",
       "      <td>1</td>\n",
       "      <td>1</td>\n",
       "      <td>101348.88</td>\n",
       "      <td>1</td>\n",
       "    </tr>\n",
       "    <tr>\n",
       "      <th>1</th>\n",
       "      <td>2</td>\n",
       "      <td>0</td>\n",
       "      <td>608</td>\n",
       "      <td>41</td>\n",
       "      <td>1</td>\n",
       "      <td>83807.86</td>\n",
       "      <td>1</td>\n",
       "      <td>0</td>\n",
       "      <td>1</td>\n",
       "      <td>112542.58</td>\n",
       "      <td>0</td>\n",
       "    </tr>\n",
       "    <tr>\n",
       "      <th>2</th>\n",
       "      <td>0</td>\n",
       "      <td>0</td>\n",
       "      <td>502</td>\n",
       "      <td>42</td>\n",
       "      <td>8</td>\n",
       "      <td>159660.80</td>\n",
       "      <td>3</td>\n",
       "      <td>1</td>\n",
       "      <td>0</td>\n",
       "      <td>113931.57</td>\n",
       "      <td>1</td>\n",
       "    </tr>\n",
       "    <tr>\n",
       "      <th>3</th>\n",
       "      <td>0</td>\n",
       "      <td>0</td>\n",
       "      <td>699</td>\n",
       "      <td>39</td>\n",
       "      <td>1</td>\n",
       "      <td>0.00</td>\n",
       "      <td>2</td>\n",
       "      <td>0</td>\n",
       "      <td>0</td>\n",
       "      <td>93826.63</td>\n",
       "      <td>0</td>\n",
       "    </tr>\n",
       "    <tr>\n",
       "      <th>4</th>\n",
       "      <td>2</td>\n",
       "      <td>0</td>\n",
       "      <td>850</td>\n",
       "      <td>43</td>\n",
       "      <td>2</td>\n",
       "      <td>125510.82</td>\n",
       "      <td>1</td>\n",
       "      <td>1</td>\n",
       "      <td>1</td>\n",
       "      <td>79084.10</td>\n",
       "      <td>0</td>\n",
       "    </tr>\n",
       "  </tbody>\n",
       "</table>\n",
       "</div>\n",
       "      <button class=\"colab-df-convert\" onclick=\"convertToInteractive('df-2988c304-104f-4e02-b121-07d538a6fd8e')\"\n",
       "              title=\"Convert this dataframe to an interactive table.\"\n",
       "              style=\"display:none;\">\n",
       "        \n",
       "  <svg xmlns=\"http://www.w3.org/2000/svg\" height=\"24px\"viewBox=\"0 0 24 24\"\n",
       "       width=\"24px\">\n",
       "    <path d=\"M0 0h24v24H0V0z\" fill=\"none\"/>\n",
       "    <path d=\"M18.56 5.44l.94 2.06.94-2.06 2.06-.94-2.06-.94-.94-2.06-.94 2.06-2.06.94zm-11 1L8.5 8.5l.94-2.06 2.06-.94-2.06-.94L8.5 2.5l-.94 2.06-2.06.94zm10 10l.94 2.06.94-2.06 2.06-.94-2.06-.94-.94-2.06-.94 2.06-2.06.94z\"/><path d=\"M17.41 7.96l-1.37-1.37c-.4-.4-.92-.59-1.43-.59-.52 0-1.04.2-1.43.59L10.3 9.45l-7.72 7.72c-.78.78-.78 2.05 0 2.83L4 21.41c.39.39.9.59 1.41.59.51 0 1.02-.2 1.41-.59l7.78-7.78 2.81-2.81c.8-.78.8-2.07 0-2.86zM5.41 20L4 18.59l7.72-7.72 1.47 1.35L5.41 20z\"/>\n",
       "  </svg>\n",
       "      </button>\n",
       "      \n",
       "  <style>\n",
       "    .colab-df-container {\n",
       "      display:flex;\n",
       "      flex-wrap:wrap;\n",
       "      gap: 12px;\n",
       "    }\n",
       "\n",
       "    .colab-df-convert {\n",
       "      background-color: #E8F0FE;\n",
       "      border: none;\n",
       "      border-radius: 50%;\n",
       "      cursor: pointer;\n",
       "      display: none;\n",
       "      fill: #1967D2;\n",
       "      height: 32px;\n",
       "      padding: 0 0 0 0;\n",
       "      width: 32px;\n",
       "    }\n",
       "\n",
       "    .colab-df-convert:hover {\n",
       "      background-color: #E2EBFA;\n",
       "      box-shadow: 0px 1px 2px rgba(60, 64, 67, 0.3), 0px 1px 3px 1px rgba(60, 64, 67, 0.15);\n",
       "      fill: #174EA6;\n",
       "    }\n",
       "\n",
       "    [theme=dark] .colab-df-convert {\n",
       "      background-color: #3B4455;\n",
       "      fill: #D2E3FC;\n",
       "    }\n",
       "\n",
       "    [theme=dark] .colab-df-convert:hover {\n",
       "      background-color: #434B5C;\n",
       "      box-shadow: 0px 1px 3px 1px rgba(0, 0, 0, 0.15);\n",
       "      filter: drop-shadow(0px 1px 2px rgba(0, 0, 0, 0.3));\n",
       "      fill: #FFFFFF;\n",
       "    }\n",
       "  </style>\n",
       "\n",
       "      <script>\n",
       "        const buttonEl =\n",
       "          document.querySelector('#df-2988c304-104f-4e02-b121-07d538a6fd8e button.colab-df-convert');\n",
       "        buttonEl.style.display =\n",
       "          google.colab.kernel.accessAllowed ? 'block' : 'none';\n",
       "\n",
       "        async function convertToInteractive(key) {\n",
       "          const element = document.querySelector('#df-2988c304-104f-4e02-b121-07d538a6fd8e');\n",
       "          const dataTable =\n",
       "            await google.colab.kernel.invokeFunction('convertToInteractive',\n",
       "                                                     [key], {});\n",
       "          if (!dataTable) return;\n",
       "\n",
       "          const docLinkHtml = 'Like what you see? Visit the ' +\n",
       "            '<a target=\"_blank\" href=https://colab.research.google.com/notebooks/data_table.ipynb>data table notebook</a>'\n",
       "            + ' to learn more about interactive tables.';\n",
       "          element.innerHTML = '';\n",
       "          dataTable['output_type'] = 'display_data';\n",
       "          await google.colab.output.renderOutput(dataTable, element);\n",
       "          const docLink = document.createElement('div');\n",
       "          docLink.innerHTML = docLinkHtml;\n",
       "          element.appendChild(docLink);\n",
       "        }\n",
       "      </script>\n",
       "    </div>\n",
       "  </div>\n",
       "  "
      ],
      "text/plain": [
       "   Geography  Gender  CreditScore  Age  Tenure    Balance  NumOfProducts  \\\n",
       "0          0       0          619   42       2       0.00              1   \n",
       "1          2       0          608   41       1   83807.86              1   \n",
       "2          0       0          502   42       8  159660.80              3   \n",
       "3          0       0          699   39       1       0.00              2   \n",
       "4          2       0          850   43       2  125510.82              1   \n",
       "\n",
       "   HasCrCard  IsActiveMember  EstimatedSalary  Exited  \n",
       "0          1               1        101348.88       1  \n",
       "1          0               1        112542.58       0  \n",
       "2          1               0        113931.57       1  \n",
       "3          0               0         93826.63       0  \n",
       "4          1               1         79084.10       0  "
      ]
     },
     "execution_count": 134,
     "metadata": {},
     "output_type": "execute_result"
    }
   ],
   "source": [
    "# Concatenating of df_cat and df_num\n",
    "\n",
    "df_new = pd.concat([df_cat,df_num],axis=1)\n",
    "df_new.head()"
   ]
  },
  {
   "cell_type": "code",
   "execution_count": 135,
   "metadata": {
    "colab": {
     "base_uri": "https://localhost:8080/",
     "height": 0
    },
    "id": "YwdgtDpmynrc",
    "outputId": "00e05998-fe72-4638-c80b-4d17db868beb"
   },
   "outputs": [
    {
     "data": {
      "text/plain": [
       "Geography            int64\n",
       "Gender               int64\n",
       "CreditScore          int64\n",
       "Age                  int64\n",
       "Tenure               int64\n",
       "Balance            float64\n",
       "NumOfProducts        int64\n",
       "HasCrCard            int64\n",
       "IsActiveMember       int64\n",
       "EstimatedSalary    float64\n",
       "Exited               int64\n",
       "dtype: object"
      ]
     },
     "execution_count": 135,
     "metadata": {},
     "output_type": "execute_result"
    }
   ],
   "source": [
    "df_new.dtypes"
   ]
  },
  {
   "cell_type": "code",
   "execution_count": 136,
   "metadata": {
    "id": "pOtjH1fD1V9F"
   },
   "outputs": [],
   "source": [
    "# Selecting Input and Output\n",
    "X = df_new.drop('Exited',axis=1)  # Input\n",
    "Y = df_new['Exited']              # Output"
   ]
  },
  {
   "cell_type": "code",
   "execution_count": 137,
   "metadata": {
    "id": "5XYp0owZ1V1y"
   },
   "outputs": [],
   "source": [
    "# Using Train Test Split\n",
    "\n",
    "from sklearn.model_selection import train_test_split\n",
    "X_train,X_test,Y_train,Y_test = train_test_split(X,Y,test_size=0.3,random_state=1)"
   ]
  },
  {
   "cell_type": "code",
   "execution_count": 138,
   "metadata": {
    "id": "oCz9DdSy1Vnx"
   },
   "outputs": [],
   "source": [
    "# Applying Standard Scaler\n",
    "\n",
    "from sklearn.preprocessing import StandardScaler\n",
    "ss = StandardScaler()\n",
    "\n",
    "X_train = ss.fit_transform(X_train)\n",
    "X_test = ss.transform(X_test)"
   ]
  },
  {
   "cell_type": "code",
   "execution_count": 139,
   "metadata": {
    "colab": {
     "base_uri": "https://localhost:8080/",
     "height": 0
    },
    "id": "LG-kPvMky27m",
    "outputId": "fa37befc-e21f-4568-8b30-f270d52b2435"
   },
   "outputs": [
    {
     "data": {
      "text/plain": [
       "0    7963\n",
       "1    2037\n",
       "Name: Exited, dtype: int64"
      ]
     },
     "execution_count": 139,
     "metadata": {},
     "output_type": "execute_result"
    }
   ],
   "source": [
    "# First checking data is equally distributed or not\n",
    "df_new['Exited'].value_counts()"
   ]
  },
  {
   "cell_type": "code",
   "execution_count": 140,
   "metadata": {
    "colab": {
     "base_uri": "https://localhost:8080/",
     "height": 279
    },
    "id": "tjwvydg832cZ",
    "outputId": "019a6d3b-fc82-4ce5-dcdb-91ea5cd4da70"
   },
   "outputs": [
    {
     "data": {
      "image/png": "[encoded data removed]",
      "text/plain": [
       "<Figure size 432x288 with 1 Axes>"
      ]
     },
     "metadata": {
      "needs_background": "light"
     },
     "output_type": "display_data"
    }
   ],
   "source": [
    "sns.countplot(data=df_new,x='Exited')\n",
    "f = df_new['Exited'].value_counts()\n",
    "plt.yticks(f)\n",
    "plt.show()"
   ]
  },
  {
   "cell_type": "markdown",
   "metadata": {},
   "source": [
    "<b><span style=font-size:20px>- <font color='LimeGreen'>Conclusion.</font></span></b>\n",
    "- Here we can see the Data is not equaly distributed.\n",
    "- So we will use Random Over Sampler to make Data Equal."
   ]
  },
  {
   "cell_type": "markdown",
   "metadata": {},
   "source": [
    " "
   ]
  },
  {
   "cell_type": "code",
   "execution_count": 141,
   "metadata": {
    "id": "GlYuCsfMzGEz"
   },
   "outputs": [],
   "source": [
    "from imblearn.over_sampling import RandomOverSampler\n",
    "ros = RandomOverSampler(random_state=1)"
   ]
  },
  {
   "cell_type": "code",
   "execution_count": 142,
   "metadata": {
    "colab": {
     "base_uri": "https://localhost:8080/",
     "height": 0
    },
    "id": "ZD1WAVom1A43",
    "outputId": "d080f24f-92bd-4987-e2ef-e7cd617fc3d7"
   },
   "outputs": [
    {
     "data": {
      "text/plain": [
       "0    5590\n",
       "1    1410\n",
       "Name: Exited, dtype: int64"
      ]
     },
     "execution_count": 142,
     "metadata": {},
     "output_type": "execute_result"
    }
   ],
   "source": [
    "# Before Applying RandomOverSampler on Training Data\n",
    "Y_train.value_counts()"
   ]
  },
  {
   "cell_type": "code",
   "execution_count": 143,
   "metadata": {
    "id": "v7-CNAu41A-T"
   },
   "outputs": [],
   "source": [
    "# Applied OverSampler on Training data (70%)\n",
    "X_train_ros,Y_train_ros = ros.fit_resample(X_train,Y_train)"
   ]
  },
  {
   "cell_type": "code",
   "execution_count": 144,
   "metadata": {
    "colab": {
     "base_uri": "https://localhost:8080/",
     "height": 0
    },
    "id": "qdGHHW771BDO",
    "outputId": "740f50d5-dc8b-4056-d36e-b9c9bb18a690"
   },
   "outputs": [
    {
     "data": {
      "text/plain": [
       "0    5590\n",
       "1    5590\n",
       "Name: Exited, dtype: int64"
      ]
     },
     "execution_count": 144,
     "metadata": {},
     "output_type": "execute_result"
    }
   ],
   "source": [
    "# Check after apply RandomOverSampler\n",
    "Y_train_ros.value_counts()"
   ]
  },
  {
   "cell_type": "code",
   "execution_count": 145,
   "metadata": {
    "colab": {
     "base_uri": "https://localhost:8080/",
     "height": 0
    },
    "id": "AEY6kgH61BIk",
    "outputId": "21e5c83c-86b2-45a5-9696-6876a31920c7"
   },
   "outputs": [
    {
     "data": {
      "text/plain": [
       "0    2373\n",
       "1     627\n",
       "Name: Exited, dtype: int64"
      ]
     },
     "execution_count": 145,
     "metadata": {},
     "output_type": "execute_result"
    }
   ],
   "source": [
    "# Before apply RandomOverSampler on testing data\n",
    "Y_test.value_counts()"
   ]
  },
  {
   "cell_type": "code",
   "execution_count": 146,
   "metadata": {
    "id": "IMi4ZjIA1BOM"
   },
   "outputs": [],
   "source": [
    "# Also apply RandomOverSampler on tesing data (30%)\n",
    "X_test_ros,Y_test_ros = ros.fit_resample(X_test,Y_test)"
   ]
  },
  {
   "cell_type": "code",
   "execution_count": 147,
   "metadata": {
    "colab": {
     "base_uri": "https://localhost:8080/",
     "height": 0
    },
    "id": "o44-EIJa1BTE",
    "outputId": "0d9d9c4d-dc85-4439-9235-4f8e04d74c42"
   },
   "outputs": [
    {
     "data": {
      "text/plain": [
       "0    2373\n",
       "1    2373\n",
       "Name: Exited, dtype: int64"
      ]
     },
     "execution_count": 147,
     "metadata": {},
     "output_type": "execute_result"
    }
   ],
   "source": [
    "Y_test_ros.value_counts()"
   ]
  },
  {
   "cell_type": "markdown",
   "metadata": {},
   "source": [
    " "
   ]
  },
  {
   "cell_type": "markdown",
   "metadata": {
    "id": "Cmn1YIdy5QFU"
   },
   "source": [
    "<h2><b>- <font color='orangered'>Creating Neural Network</font></b></h2>"
   ]
  },
  {
   "cell_type": "code",
   "execution_count": 148,
   "metadata": {
    "id": "1gdglRTm3CG4"
   },
   "outputs": [],
   "source": [
    "import tensorflow as tf\n",
    "model = tf.keras.Sequential([\n",
    "        tf.keras.layers.Dense(units=10,activation='relu',input_shape=(X.shape[1],)),   # 1st Hidden Layer\n",
    "        tf.keras.layers.Dense(units=10,activation='relu'),                             # 2nd Hidden Layer\n",
    "        tf.keras.layers.Dense(units=1,activation='sigmoid')                            # Output Layer\n",
    "])"
   ]
  },
  {
   "cell_type": "code",
   "execution_count": 149,
   "metadata": {
    "colab": {
     "base_uri": "https://localhost:8080/",
     "height": 0
    },
    "id": "1i5_egdh3CPN",
    "outputId": "587beb9d-b99f-49d2-a8e4-fab6c569d4ac"
   },
   "outputs": [
    {
     "name": "stdout",
     "output_type": "stream",
     "text": [
      "Model: \"sequential_7\"\n",
      "_________________________________________________________________\n",
      " Layer (type)                Output Shape              Param #   \n",
      "=================================================================\n",
      " dense_21 (Dense)            (None, 10)                110       \n",
      "                                                                 \n",
      " dense_22 (Dense)            (None, 10)                110       \n",
      "                                                                 \n",
      " dense_23 (Dense)            (None, 1)                 11        \n",
      "                                                                 \n",
      "=================================================================\n",
      "Total params: 231\n",
      "Trainable params: 231\n",
      "Non-trainable params: 0\n",
      "_________________________________________________________________\n"
     ]
    }
   ],
   "source": [
    "model.summary()"
   ]
  },
  {
   "cell_type": "code",
   "execution_count": 150,
   "metadata": {
    "id": "BLV1NjyDn7vy"
   },
   "outputs": [],
   "source": [
    "# Compile the model\n",
    "model.compile(optimizer='Adam',loss='binary_crossentropy',metrics=['accuracy'])"
   ]
  },
  {
   "cell_type": "code",
   "execution_count": 151,
   "metadata": {
    "id": "UGEudnkXVo-q"
   },
   "outputs": [],
   "source": [
    "# Create Early stopping means create a call back\n",
    "from tensorflow.keras.callbacks import EarlyStopping\n",
    "callback = EarlyStopping(\n",
    "    monitor=\"val_loss\",\n",
    "    min_delta=0.00001,\n",
    "    patience=20,\n",
    "    verbose=1,\n",
    "    mode=\"auto\",\n",
    "    baseline=None,\n",
    "    restore_best_weights=False\n",
    ")"
   ]
  },
  {
   "cell_type": "code",
   "execution_count": 152,
   "metadata": {
    "colab": {
     "base_uri": "https://localhost:8080/",
     "height": 0
    },
    "id": "yYUi7Xxbn75X",
    "outputId": "7478422d-5f90-4acb-eb6b-ffdac04011b7"
   },
   "outputs": [
    {
     "name": "stdout",
     "output_type": "stream",
     "text": [
      "Epoch 1/3500\n",
      "559/559 [==============================] - 2s 3ms/step - loss: 0.6166 - accuracy: 0.6625 - val_loss: 0.5785 - val_accuracy: 0.6915\n",
      "Epoch 2/3500\n",
      "559/559 [==============================] - 1s 2ms/step - loss: 0.5618 - accuracy: 0.7123 - val_loss: 0.5468 - val_accuracy: 0.7139\n",
      "Epoch 3/3500\n",
      "559/559 [==============================] - 2s 4ms/step - loss: 0.5285 - accuracy: 0.7384 - val_loss: 0.5192 - val_accuracy: 0.7408\n",
      "Epoch 4/3500\n",
      "559/559 [==============================] - 3s 5ms/step - loss: 0.5031 - accuracy: 0.7541 - val_loss: 0.4993 - val_accuracy: 0.7474\n",
      "Epoch 5/3500\n",
      "559/559 [==============================] - 2s 4ms/step - loss: 0.4869 - accuracy: 0.7642 - val_loss: 0.4879 - val_accuracy: 0.7537\n",
      "Epoch 6/3500\n",
      "559/559 [==============================] - 2s 4ms/step - loss: 0.4792 - accuracy: 0.7663 - val_loss: 0.4805 - val_accuracy: 0.7613\n",
      "Epoch 7/3500\n",
      "559/559 [==============================] - 2s 4ms/step - loss: 0.4733 - accuracy: 0.7724 - val_loss: 0.4770 - val_accuracy: 0.7632\n",
      "Epoch 8/3500\n",
      "559/559 [==============================] - 3s 5ms/step - loss: 0.4695 - accuracy: 0.7732 - val_loss: 0.4737 - val_accuracy: 0.7693\n",
      "Epoch 9/3500\n",
      "559/559 [==============================] - 3s 5ms/step - loss: 0.4667 - accuracy: 0.7755 - val_loss: 0.4706 - val_accuracy: 0.7651\n",
      "Epoch 10/3500\n",
      "559/559 [==============================] - 2s 4ms/step - loss: 0.4639 - accuracy: 0.7759 - val_loss: 0.4700 - val_accuracy: 0.7653\n",
      "Epoch 11/3500\n",
      "559/559 [==============================] - 3s 5ms/step - loss: 0.4618 - accuracy: 0.7790 - val_loss: 0.4693 - val_accuracy: 0.7676\n",
      "Epoch 12/3500\n",
      "559/559 [==============================] - 2s 4ms/step - loss: 0.4596 - accuracy: 0.7801 - val_loss: 0.4661 - val_accuracy: 0.7729\n",
      "Epoch 13/3500\n",
      "559/559 [==============================] - 2s 4ms/step - loss: 0.4577 - accuracy: 0.7795 - val_loss: 0.4653 - val_accuracy: 0.7703\n",
      "Epoch 14/3500\n",
      "559/559 [==============================] - 2s 4ms/step - loss: 0.4574 - accuracy: 0.7809 - val_loss: 0.4667 - val_accuracy: 0.7636\n",
      "Epoch 15/3500\n",
      "559/559 [==============================] - 2s 4ms/step - loss: 0.4554 - accuracy: 0.7801 - val_loss: 0.4675 - val_accuracy: 0.7691\n",
      "Epoch 16/3500\n",
      "559/559 [==============================] - 1s 3ms/step - loss: 0.4547 - accuracy: 0.7799 - val_loss: 0.4638 - val_accuracy: 0.7716\n",
      "Epoch 17/3500\n",
      "559/559 [==============================] - 1s 2ms/step - loss: 0.4529 - accuracy: 0.7809 - val_loss: 0.4644 - val_accuracy: 0.7739\n",
      "Epoch 18/3500\n",
      "559/559 [==============================] - 1s 2ms/step - loss: 0.4520 - accuracy: 0.7828 - val_loss: 0.4657 - val_accuracy: 0.7716\n",
      "Epoch 19/3500\n",
      "559/559 [==============================] - 1s 2ms/step - loss: 0.4501 - accuracy: 0.7804 - val_loss: 0.4705 - val_accuracy: 0.7594\n",
      "Epoch 20/3500\n",
      "559/559 [==============================] - 1s 2ms/step - loss: 0.4499 - accuracy: 0.7827 - val_loss: 0.4686 - val_accuracy: 0.7661\n",
      "Epoch 21/3500\n",
      "559/559 [==============================] - 1s 2ms/step - loss: 0.4490 - accuracy: 0.7847 - val_loss: 0.4650 - val_accuracy: 0.7720\n",
      "Epoch 22/3500\n",
      "559/559 [==============================] - 1s 2ms/step - loss: 0.4483 - accuracy: 0.7854 - val_loss: 0.4673 - val_accuracy: 0.7701\n",
      "Epoch 23/3500\n",
      "559/559 [==============================] - 1s 2ms/step - loss: 0.4470 - accuracy: 0.7843 - val_loss: 0.4656 - val_accuracy: 0.7649\n",
      "Epoch 24/3500\n",
      "559/559 [==============================] - 1s 2ms/step - loss: 0.4467 - accuracy: 0.7843 - val_loss: 0.4688 - val_accuracy: 0.7655\n",
      "Epoch 25/3500\n",
      "559/559 [==============================] - 1s 2ms/step - loss: 0.4465 - accuracy: 0.7817 - val_loss: 0.4692 - val_accuracy: 0.7663\n",
      "Epoch 26/3500\n",
      "559/559 [==============================] - 1s 2ms/step - loss: 0.4451 - accuracy: 0.7835 - val_loss: 0.4685 - val_accuracy: 0.7653\n",
      "Epoch 27/3500\n",
      "559/559 [==============================] - 1s 2ms/step - loss: 0.4445 - accuracy: 0.7859 - val_loss: 0.4683 - val_accuracy: 0.7689\n",
      "Epoch 28/3500\n",
      "559/559 [==============================] - 1s 2ms/step - loss: 0.4443 - accuracy: 0.7834 - val_loss: 0.4683 - val_accuracy: 0.7651\n",
      "Epoch 29/3500\n",
      "559/559 [==============================] - 1s 2ms/step - loss: 0.4434 - accuracy: 0.7852 - val_loss: 0.4669 - val_accuracy: 0.7676\n",
      "Epoch 30/3500\n",
      "559/559 [==============================] - 1s 2ms/step - loss: 0.4430 - accuracy: 0.7835 - val_loss: 0.4745 - val_accuracy: 0.7632\n",
      "Epoch 31/3500\n",
      "559/559 [==============================] - 1s 2ms/step - loss: 0.4425 - accuracy: 0.7857 - val_loss: 0.4656 - val_accuracy: 0.7716\n",
      "Epoch 32/3500\n",
      "559/559 [==============================] - 1s 2ms/step - loss: 0.4416 - accuracy: 0.7850 - val_loss: 0.4721 - val_accuracy: 0.7642\n",
      "Epoch 33/3500\n",
      "559/559 [==============================] - 1s 2ms/step - loss: 0.4411 - accuracy: 0.7856 - val_loss: 0.4692 - val_accuracy: 0.7636\n",
      "Epoch 34/3500\n",
      "559/559 [==============================] - 1s 2ms/step - loss: 0.4409 - accuracy: 0.7879 - val_loss: 0.4671 - val_accuracy: 0.7642\n",
      "Epoch 35/3500\n",
      "559/559 [==============================] - 1s 2ms/step - loss: 0.4410 - accuracy: 0.7852 - val_loss: 0.4699 - val_accuracy: 0.7625\n",
      "Epoch 36/3500\n",
      "559/559 [==============================] - 1s 2ms/step - loss: 0.4404 - accuracy: 0.7886 - val_loss: 0.4743 - val_accuracy: 0.7611\n",
      "Epoch 36: early stopping\n"
     ]
    }
   ],
   "source": [
    "# Train the Model\n",
    "trained_model = model.fit(X_train_ros,Y_train_ros,batch_size=20,epochs=3500,\n",
    "                          validation_data=(X_test_ros,Y_test_ros),callbacks=callback)"
   ]
  },
  {
   "cell_type": "code",
   "execution_count": 153,
   "metadata": {
    "colab": {
     "base_uri": "https://localhost:8080/",
     "height": 0
    },
    "id": "5Q3XbBZnn-qP",
    "outputId": "3469062e-0203-4556-d623-2dc14f273c64"
   },
   "outputs": [
    {
     "name": "stdout",
     "output_type": "stream",
     "text": [
      "350/350 [==============================] - 0s 1ms/step - loss: 0.4373 - accuracy: 0.7889\n",
      "Training Loss and Training Accuracy: [0.43734443187713623, 0.7889087796211243]\n",
      "350/350 [==============================] - 0s 1ms/step - loss: 0.4373 - accuracy: 0.7889\n",
      "Testing Loss and Testing Accuracy: [0.43734443187713623, 0.7889087796211243]\n"
     ]
    }
   ],
   "source": [
    "print(\"Training Loss and Training Accuracy:\",model.evaluate(X_train_ros,Y_train_ros))\n",
    "print(\"Testing Loss and Testing Accuracy:\",model.evaluate(X_train_ros,Y_train_ros))"
   ]
  },
  {
   "cell_type": "code",
   "execution_count": 154,
   "metadata": {
    "colab": {
     "base_uri": "https://localhost:8080/",
     "height": 269
    },
    "id": "CDImVDeMeFdo",
    "outputId": "fe36544e-1f50-4636-d876-f3bd5367a077"
   },
   "outputs": [
    {
     "data": {
      "image/png": "[encoded data removed]",
      "text/plain": [
       "<Figure size 432x288 with 1 Axes>"
      ]
     },
     "metadata": {
      "needs_background": "light"
     },
     "output_type": "display_data"
    }
   ],
   "source": [
    "# Visualisation Training and Testing Loss\n",
    "plt.plot(trained_model.history['loss'],label='Training Loss')\n",
    "plt.plot(trained_model.history['val_loss'],label='Testing Loss')\n",
    "plt.legend()\n",
    "plt.show()"
   ]
  },
  {
   "cell_type": "code",
   "execution_count": 155,
   "metadata": {
    "colab": {
     "base_uri": "https://localhost:8080/",
     "height": 265
    },
    "id": "Y7sMw467eab4",
    "outputId": "2a6d0c53-0b88-4123-fe9e-588e3a298cb4"
   },
   "outputs": [
    {
     "data": {
      "image/png": "[encoded data removed]",
      "text/plain": [
       "<Figure size 432x288 with 1 Axes>"
      ]
     },
     "metadata": {
      "needs_background": "light"
     },
     "output_type": "display_data"
    }
   ],
   "source": [
    "# Visualise\n",
    "plt.plot(trained_model.history['accuracy'],label='Training Accuracy')\n",
    "plt.plot(trained_model.history['val_accuracy'],label='Testing Accuracy')\n",
    "plt.legend()\n",
    "plt.show()"
   ]
  },
  {
   "cell_type": "markdown",
   "metadata": {},
   "source": [
    "<b><span style=font-size:20px>- <font color='LimeGreen'>Conclusion.</font></span></b>\n",
    "- Here we can see their is gap between Accuracy and loss, Which shows the model is Overfit"
   ]
  },
  {
   "cell_type": "markdown",
   "metadata": {},
   "source": [
    "  "
   ]
  },
  {
   "cell_type": "code",
   "execution_count": 156,
   "metadata": {
    "colab": {
     "base_uri": "https://localhost:8080/",
     "height": 0
    },
    "id": "wD6QpE5ln_O5",
    "outputId": "88033ed3-3c88-41ae-a06e-976e2abb4103"
   },
   "outputs": [
    {
     "data": {
      "text/plain": [
       "array([[0.16],\n",
       "       [0.35],\n",
       "       [0.21],\n",
       "       ...,\n",
       "       [0.21],\n",
       "       [0.54],\n",
       "       [0.54]], dtype=float32)"
      ]
     },
     "execution_count": 156,
     "metadata": {},
     "output_type": "execute_result"
    }
   ],
   "source": [
    "# Test the model with 30% data\n",
    "Y_pred = model.predict(X_test_ros).round(2)\n",
    "Y_pred"
   ]
  },
  {
   "cell_type": "code",
   "execution_count": 157,
   "metadata": {
    "colab": {
     "base_uri": "https://localhost:8080/",
     "height": 0
    },
    "id": "3GoTqtY0n_WX",
    "outputId": "cd1ecb05-68ca-4110-c6bf-1293c7822a2c"
   },
   "outputs": [
    {
     "data": {
      "text/plain": [
       "array([[0],\n",
       "       [0],\n",
       "       [0],\n",
       "       ...,\n",
       "       [0],\n",
       "       [1],\n",
       "       [1]])"
      ]
     },
     "execution_count": 157,
     "metadata": {},
     "output_type": "execute_result"
    }
   ],
   "source": [
    "Y_pred = np.where(Y_pred>=0.5,1,0)\n",
    "Y_pred"
   ]
  },
  {
   "cell_type": "code",
   "execution_count": 158,
   "metadata": {
    "colab": {
     "base_uri": "https://localhost:8080/",
     "height": 0
    },
    "id": "fbFVZxUen_fH",
    "outputId": "fd60b983-72fd-4325-be78-b988f26e14d5"
   },
   "outputs": [
    {
     "name": "stdout",
     "output_type": "stream",
     "text": [
      "              precision    recall  f1-score   support\n",
      "\n",
      "           0       0.74      0.80      0.77      2373\n",
      "           1       0.78      0.72      0.75      2373\n",
      "\n",
      "    accuracy                           0.76      4746\n",
      "   macro avg       0.76      0.76      0.76      4746\n",
      "weighted avg       0.76      0.76      0.76      4746\n",
      "\n",
      "[[1892  481]\n",
      " [ 658 1715]]\n"
     ]
    }
   ],
   "source": [
    "from sklearn.metrics import classification_report,confusion_matrix\n",
    "print(classification_report(Y_test_ros,Y_pred))\n",
    "print(confusion_matrix(Y_test_ros,Y_pred))"
   ]
  },
  {
   "cell_type": "code",
   "execution_count": 159,
   "metadata": {
    "colab": {
     "base_uri": "https://localhost:8080/",
     "height": 0
    },
    "id": "YawFCuTynls9",
    "outputId": "7a070339-a7bb-485e-eb12-0c5cf2ec8063"
   },
   "outputs": [
    {
     "data": {
      "text/plain": [
       "(10000, 10)"
      ]
     },
     "execution_count": 159,
     "metadata": {},
     "output_type": "execute_result"
    }
   ],
   "source": [
    "X.shape"
   ]
  },
  {
   "cell_type": "markdown",
   "metadata": {},
   "source": [
    "<b><span style=font-size:20px>- <font color='LimeGreen'>Conclusion.</font></span></b>\n",
    "- To reduce overfitting we will use Regularization: Ridge means L2."
   ]
  },
  {
   "cell_type": "markdown",
   "metadata": {},
   "source": [
    " "
   ]
  },
  {
   "cell_type": "code",
   "execution_count": 160,
   "metadata": {
    "id": "GVDpKZRP6uO0"
   },
   "outputs": [],
   "source": [
    "# Create a Neural Network\n",
    "\n",
    "from keras import regularizers\n",
    "from keras.layers import Dropout\n",
    "model = tf.keras.models.Sequential([\n",
    "        tf.keras.layers.Dense(units=10,activation='relu',input_shape=(X.shape[1],),kernel_regularizer=regularizers.l2(0.01)),  # 1st Hidden Layer\n",
    "        tf.keras.layers.Dense(units=10,activation='relu',kernel_regularizer=regularizers.l2(0.01)),                            # 2nd Hidden Layer\n",
    "        tf.keras.layers.Dense(units=1,activation='sigmoid',kernel_regularizer=regularizers.l2(0.01))                           # Output Layer \n",
    "])"
   ]
  },
  {
   "cell_type": "code",
   "execution_count": 161,
   "metadata": {
    "id": "fYAXk8q0s_Ww"
   },
   "outputs": [],
   "source": [
    "# Compile the model\n",
    "\n",
    "model.compile(optimizer='adam',loss='binary_crossentropy',metrics=['accuracy'])"
   ]
  },
  {
   "cell_type": "code",
   "execution_count": 162,
   "metadata": {
    "colab": {
     "base_uri": "https://localhost:8080/",
     "height": 0
    },
    "id": "EnTXfXoHs_Wy",
    "outputId": "e1604cac-5c2b-4f59-9365-da81149d4f41"
   },
   "outputs": [
    {
     "name": "stdout",
     "output_type": "stream",
     "text": [
      "Epoch 1/3500\n",
      "350/350 [==============================] - 2s 3ms/step - loss: 0.7822 - accuracy: 0.6542 - val_loss: 0.7012 - val_accuracy: 0.6854\n",
      "Epoch 2/3500\n",
      "350/350 [==============================] - 1s 3ms/step - loss: 0.6584 - accuracy: 0.7159 - val_loss: 0.6303 - val_accuracy: 0.7196\n",
      "Epoch 3/3500\n",
      "350/350 [==============================] - 1s 2ms/step - loss: 0.6119 - accuracy: 0.7370 - val_loss: 0.6003 - val_accuracy: 0.7423\n",
      "Epoch 4/3500\n",
      "350/350 [==============================] - 1s 2ms/step - loss: 0.5892 - accuracy: 0.7481 - val_loss: 0.5874 - val_accuracy: 0.7446\n",
      "Epoch 5/3500\n",
      "350/350 [==============================] - 1s 2ms/step - loss: 0.5806 - accuracy: 0.7504 - val_loss: 0.5798 - val_accuracy: 0.7501\n",
      "Epoch 6/3500\n",
      "350/350 [==============================] - 1s 2ms/step - loss: 0.5772 - accuracy: 0.7514 - val_loss: 0.5778 - val_accuracy: 0.7446\n",
      "Epoch 7/3500\n",
      "350/350 [==============================] - 1s 2ms/step - loss: 0.5754 - accuracy: 0.7526 - val_loss: 0.5751 - val_accuracy: 0.7533\n",
      "Epoch 8/3500\n",
      "350/350 [==============================] - 1s 2ms/step - loss: 0.5740 - accuracy: 0.7515 - val_loss: 0.5760 - val_accuracy: 0.7531\n",
      "Epoch 9/3500\n",
      "350/350 [==============================] - 1s 3ms/step - loss: 0.5732 - accuracy: 0.7515 - val_loss: 0.5745 - val_accuracy: 0.7520\n",
      "Epoch 10/3500\n",
      "350/350 [==============================] - 1s 3ms/step - loss: 0.5727 - accuracy: 0.7538 - val_loss: 0.5727 - val_accuracy: 0.7545\n",
      "Epoch 11/3500\n",
      "350/350 [==============================] - 1s 3ms/step - loss: 0.5723 - accuracy: 0.7511 - val_loss: 0.5746 - val_accuracy: 0.7501\n",
      "Epoch 12/3500\n",
      "350/350 [==============================] - 1s 2ms/step - loss: 0.5720 - accuracy: 0.7525 - val_loss: 0.5747 - val_accuracy: 0.7552\n",
      "Epoch 13/3500\n",
      "350/350 [==============================] - 1s 3ms/step - loss: 0.5711 - accuracy: 0.7538 - val_loss: 0.5765 - val_accuracy: 0.7495\n",
      "Epoch 14/3500\n",
      "350/350 [==============================] - 1s 2ms/step - loss: 0.5717 - accuracy: 0.7530 - val_loss: 0.5733 - val_accuracy: 0.7514\n",
      "Epoch 15/3500\n",
      "350/350 [==============================] - 1s 3ms/step - loss: 0.5710 - accuracy: 0.7510 - val_loss: 0.5736 - val_accuracy: 0.7528\n",
      "Epoch 16/3500\n",
      "350/350 [==============================] - 1s 2ms/step - loss: 0.5711 - accuracy: 0.7543 - val_loss: 0.5744 - val_accuracy: 0.7434\n",
      "Epoch 17/3500\n",
      "350/350 [==============================] - 1s 2ms/step - loss: 0.5707 - accuracy: 0.7530 - val_loss: 0.5717 - val_accuracy: 0.7550\n",
      "Epoch 18/3500\n",
      "350/350 [==============================] - 1s 2ms/step - loss: 0.5706 - accuracy: 0.7555 - val_loss: 0.5738 - val_accuracy: 0.7531\n",
      "Epoch 19/3500\n",
      "350/350 [==============================] - 1s 2ms/step - loss: 0.5707 - accuracy: 0.7540 - val_loss: 0.5718 - val_accuracy: 0.7488\n",
      "Epoch 20/3500\n",
      "350/350 [==============================] - 1s 3ms/step - loss: 0.5708 - accuracy: 0.7525 - val_loss: 0.5724 - val_accuracy: 0.7476\n",
      "Epoch 21/3500\n",
      "350/350 [==============================] - 1s 2ms/step - loss: 0.5706 - accuracy: 0.7533 - val_loss: 0.5713 - val_accuracy: 0.7556\n",
      "Epoch 22/3500\n",
      "350/350 [==============================] - 1s 2ms/step - loss: 0.5706 - accuracy: 0.7535 - val_loss: 0.5726 - val_accuracy: 0.7533\n",
      "Epoch 23/3500\n",
      "350/350 [==============================] - 1s 3ms/step - loss: 0.5703 - accuracy: 0.7540 - val_loss: 0.5701 - val_accuracy: 0.7518\n",
      "Epoch 24/3500\n",
      "350/350 [==============================] - 1s 2ms/step - loss: 0.5704 - accuracy: 0.7532 - val_loss: 0.5721 - val_accuracy: 0.7512\n",
      "Epoch 25/3500\n",
      "350/350 [==============================] - 1s 2ms/step - loss: 0.5703 - accuracy: 0.7515 - val_loss: 0.5720 - val_accuracy: 0.7482\n",
      "Epoch 26/3500\n",
      "350/350 [==============================] - 1s 3ms/step - loss: 0.5704 - accuracy: 0.7509 - val_loss: 0.5720 - val_accuracy: 0.7505\n",
      "Epoch 27/3500\n",
      "350/350 [==============================] - 1s 2ms/step - loss: 0.5703 - accuracy: 0.7514 - val_loss: 0.5747 - val_accuracy: 0.7476\n",
      "Epoch 28/3500\n",
      "350/350 [==============================] - 1s 3ms/step - loss: 0.5701 - accuracy: 0.7532 - val_loss: 0.5730 - val_accuracy: 0.7505\n",
      "Epoch 29/3500\n",
      "350/350 [==============================] - 1s 4ms/step - loss: 0.5701 - accuracy: 0.7534 - val_loss: 0.5719 - val_accuracy: 0.7516\n",
      "Epoch 30/3500\n",
      "350/350 [==============================] - 1s 4ms/step - loss: 0.5701 - accuracy: 0.7547 - val_loss: 0.5717 - val_accuracy: 0.7491\n",
      "Epoch 31/3500\n",
      "350/350 [==============================] - 1s 4ms/step - loss: 0.5702 - accuracy: 0.7538 - val_loss: 0.5742 - val_accuracy: 0.7558\n",
      "Epoch 32/3500\n",
      "350/350 [==============================] - 1s 2ms/step - loss: 0.5704 - accuracy: 0.7525 - val_loss: 0.5723 - val_accuracy: 0.7522\n",
      "Epoch 33/3500\n",
      "350/350 [==============================] - 1s 2ms/step - loss: 0.5701 - accuracy: 0.7509 - val_loss: 0.5715 - val_accuracy: 0.7571\n",
      "Epoch 34/3500\n",
      "350/350 [==============================] - 1s 2ms/step - loss: 0.5702 - accuracy: 0.7530 - val_loss: 0.5724 - val_accuracy: 0.7531\n",
      "Epoch 35/3500\n",
      "350/350 [==============================] - 1s 3ms/step - loss: 0.5700 - accuracy: 0.7530 - val_loss: 0.5721 - val_accuracy: 0.7524\n",
      "Epoch 36/3500\n",
      "350/350 [==============================] - 1s 2ms/step - loss: 0.5701 - accuracy: 0.7520 - val_loss: 0.5718 - val_accuracy: 0.7547\n",
      "Epoch 37/3500\n",
      "350/350 [==============================] - 1s 2ms/step - loss: 0.5702 - accuracy: 0.7528 - val_loss: 0.5702 - val_accuracy: 0.7541\n",
      "Epoch 38/3500\n",
      "350/350 [==============================] - 1s 3ms/step - loss: 0.5699 - accuracy: 0.7513 - val_loss: 0.5722 - val_accuracy: 0.7526\n",
      "Epoch 39/3500\n",
      "350/350 [==============================] - 1s 3ms/step - loss: 0.5699 - accuracy: 0.7517 - val_loss: 0.5738 - val_accuracy: 0.7577\n",
      "Epoch 40/3500\n",
      "350/350 [==============================] - 1s 3ms/step - loss: 0.5703 - accuracy: 0.7540 - val_loss: 0.5712 - val_accuracy: 0.7554\n",
      "Epoch 41/3500\n",
      "350/350 [==============================] - 1s 2ms/step - loss: 0.5702 - accuracy: 0.7530 - val_loss: 0.5720 - val_accuracy: 0.7503\n",
      "Epoch 42/3500\n",
      "350/350 [==============================] - 1s 3ms/step - loss: 0.5701 - accuracy: 0.7521 - val_loss: 0.5730 - val_accuracy: 0.7482\n",
      "Epoch 43/3500\n",
      "350/350 [==============================] - 1s 2ms/step - loss: 0.5701 - accuracy: 0.7524 - val_loss: 0.5717 - val_accuracy: 0.7566\n",
      "Epoch 43: early stopping\n"
     ]
    }
   ],
   "source": [
    "# Train the Model\n",
    "\n",
    "trained_model= model.fit(X_train_ros,Y_train_ros,batch_size=32,epochs=3500,\n",
    "                          validation_data=(X_test_ros,Y_test_ros),callbacks=callback)"
   ]
  },
  {
   "cell_type": "code",
   "execution_count": 163,
   "metadata": {
    "colab": {
     "base_uri": "https://localhost:8080/",
     "height": 0
    },
    "id": "Qbr_6PeHs_Wy",
    "outputId": "4dee6528-d830-4da9-d567-cbbe2b0add47"
   },
   "outputs": [
    {
     "name": "stdout",
     "output_type": "stream",
     "text": [
      "350/350 [==============================] - 0s 1ms/step - loss: 0.5691 - accuracy: 0.7534\n",
      "Training Loss and Training Accuracy: [0.5691092014312744, 0.7533989548683167]\n",
      "350/350 [==============================] - 0s 1ms/step - loss: 0.5691 - accuracy: 0.7534\n",
      "Testing Loss and Testing Accuracy: [0.5691092014312744, 0.7533989548683167]\n"
     ]
    }
   ],
   "source": [
    "print(\"Training Loss and Training Accuracy:\",model.evaluate(X_train_ros,Y_train_ros))\n",
    "print(\"Testing Loss and Testing Accuracy:\",model.evaluate(X_train_ros,Y_train_ros))"
   ]
  },
  {
   "cell_type": "code",
   "execution_count": 164,
   "metadata": {
    "colab": {
     "base_uri": "https://localhost:8080/",
     "height": 265
    },
    "id": "vGTaJV2Ks_Wz",
    "outputId": "9f6760ee-7552-48e7-c989-fe68d4a7373f"
   },
   "outputs": [
    {
     "data": {
      "image/png": "[encoded data removed]",
      "text/plain": [
       "<Figure size 432x288 with 1 Axes>"
      ]
     },
     "metadata": {
      "needs_background": "light"
     },
     "output_type": "display_data"
    }
   ],
   "source": [
    "# Visualisation Training and Testing Loss\n",
    "\n",
    "plt.plot(trained_model.history['loss'],label='Training Loss')\n",
    "plt.plot(trained_model.history['val_loss'],label='Testing Loss')\n",
    "plt.legend()\n",
    "plt.show()"
   ]
  },
  {
   "cell_type": "code",
   "execution_count": 165,
   "metadata": {
    "colab": {
     "base_uri": "https://localhost:8080/",
     "height": 265
    },
    "id": "tbLO70E5s_Wz",
    "outputId": "72dcd4f5-50a1-45cd-82ec-e40c75b0759f"
   },
   "outputs": [
    {
     "data": {
      "image/png": "[encoded data removed]",
      "text/plain": [
       "<Figure size 432x288 with 1 Axes>"
      ]
     },
     "metadata": {
      "needs_background": "light"
     },
     "output_type": "display_data"
    }
   ],
   "source": [
    "# Visualisation Training and Testing Accuracy\n",
    "\n",
    "plt.plot(trained_model.history['accuracy'],label='Training Accuracy')\n",
    "plt.plot(trained_model.history['val_accuracy'],label='Testing Accuracy')\n",
    "plt.legend()\n",
    "plt.show()"
   ]
  },
  {
   "cell_type": "code",
   "execution_count": 166,
   "metadata": {
    "colab": {
     "base_uri": "https://localhost:8080/",
     "height": 0
    },
    "id": "3D8VK2gAs_Wz",
    "outputId": "4d3dd1c0-ba41-4d6d-f331-565b045ffa8b"
   },
   "outputs": [
    {
     "data": {
      "text/plain": [
       "array([[0.21],\n",
       "       [0.4 ],\n",
       "       [0.19],\n",
       "       ...,\n",
       "       [0.63],\n",
       "       [0.39],\n",
       "       [0.39]], dtype=float32)"
      ]
     },
     "execution_count": 166,
     "metadata": {},
     "output_type": "execute_result"
    }
   ],
   "source": [
    "# Test the model with 30% data\n",
    "\n",
    "Y_pred = model.predict(X_test_ros).round(2)\n",
    "Y_pred"
   ]
  },
  {
   "cell_type": "code",
   "execution_count": 167,
   "metadata": {
    "colab": {
     "base_uri": "https://localhost:8080/",
     "height": 0
    },
    "id": "7HofmcCZs_Wz",
    "outputId": "00928f8d-9d1e-47b8-9315-26d74125fdd6"
   },
   "outputs": [
    {
     "data": {
      "text/plain": [
       "array([[0],\n",
       "       [0],\n",
       "       [0],\n",
       "       ...,\n",
       "       [1],\n",
       "       [0],\n",
       "       [0]])"
      ]
     },
     "execution_count": 167,
     "metadata": {},
     "output_type": "execute_result"
    }
   ],
   "source": [
    "Y_pred = np.where(Y_pred>=0.5,1,0)\n",
    "Y_pred"
   ]
  },
  {
   "cell_type": "code",
   "execution_count": 168,
   "metadata": {
    "colab": {
     "base_uri": "https://localhost:8080/",
     "height": 0
    },
    "id": "QJY3f-6Ms_Wz",
    "outputId": "6307bbb8-20f5-4b94-90c9-79684c6acc69"
   },
   "outputs": [
    {
     "name": "stdout",
     "output_type": "stream",
     "text": [
      "              precision    recall  f1-score   support\n",
      "\n",
      "           0       0.74      0.78      0.76      2373\n",
      "           1       0.77      0.72      0.75      2373\n",
      "\n",
      "    accuracy                           0.75      4746\n",
      "   macro avg       0.75      0.75      0.75      4746\n",
      "weighted avg       0.75      0.75      0.75      4746\n",
      "\n",
      "[[1860  513]\n",
      " [ 657 1716]]\n"
     ]
    }
   ],
   "source": [
    "from sklearn.metrics import classification_report,confusion_matrix\n",
    "print(classification_report(Y_test_ros,Y_pred))\n",
    "print(confusion_matrix(Y_test_ros,Y_pred))"
   ]
  },
  {
   "cell_type": "markdown",
   "metadata": {},
   "source": [
    "<b><span style=font-size:20px>- <font color='LimeGreen'>Conclusion.</font></span></b>\n",
    "- After using Regularization we got good results, but we will still try to get more accuracy.\n",
    "- So now we will increase the unit of neurons and use Dropout which will help to handle big neurons."
   ]
  },
  {
   "cell_type": "markdown",
   "metadata": {},
   "source": [
    " "
   ]
  },
  {
   "cell_type": "code",
   "execution_count": 178,
   "metadata": {
    "id": "gEAQF4KkLjpm"
   },
   "outputs": [],
   "source": [
    "# Create a Neural Network\n",
    "\n",
    "from keras import regularizers\n",
    "from keras.layers import Dropout\n",
    "model = tf.keras.models.Sequential([\n",
    "        tf.keras.layers.Dense(units=1000,activation='relu',input_shape=(X.shape[1],),kernel_regularizer=regularizers.l2(0.01)),Dropout(0.5),  # 1st Hidden Layer\n",
    "        tf.keras.layers.Dense(units=1000,activation='relu',kernel_regularizer=regularizers.l2(0.01)),Dropout(0.5),                            # 2nd Hidden Layer\n",
    "        tf.keras.layers.Dense(units=1,activation='sigmoid',kernel_regularizer=regularizers.l2(0.01))                                          # Output Layer \n",
    "])"
   ]
  },
  {
   "cell_type": "code",
   "execution_count": 179,
   "metadata": {
    "id": "RVMNtt1qo2lf"
   },
   "outputs": [],
   "source": [
    "# Compile the model\n",
    "\n",
    "model.compile(optimizer='adam',loss='binary_crossentropy',metrics=['accuracy'])"
   ]
  },
  {
   "cell_type": "code",
   "execution_count": 180,
   "metadata": {
    "colab": {
     "base_uri": "https://localhost:8080/",
     "height": 0
    },
    "id": "uBIWcdJYo2lg",
    "outputId": "0abc3775-7cca-4dae-88e2-c367cc6b3218"
   },
   "outputs": [
    {
     "name": "stdout",
     "output_type": "stream",
     "text": [
      "Epoch 1/3500\n",
      "350/350 [==============================] - 7s 17ms/step - loss: 1.2418 - accuracy: 0.7200 - val_loss: 0.6402 - val_accuracy: 0.7259\n",
      "Epoch 2/3500\n",
      "350/350 [==============================] - 6s 16ms/step - loss: 0.6193 - accuracy: 0.7411 - val_loss: 0.6098 - val_accuracy: 0.7370\n",
      "Epoch 3/3500\n",
      "350/350 [==============================] - 6s 17ms/step - loss: 0.6103 - accuracy: 0.7440 - val_loss: 0.6156 - val_accuracy: 0.7265\n",
      "Epoch 4/3500\n",
      "350/350 [==============================] - 6s 16ms/step - loss: 0.6080 - accuracy: 0.7436 - val_loss: 0.6055 - val_accuracy: 0.7330\n",
      "Epoch 5/3500\n",
      "350/350 [==============================] - 6s 16ms/step - loss: 0.6051 - accuracy: 0.7436 - val_loss: 0.5986 - val_accuracy: 0.7476\n",
      "Epoch 6/3500\n",
      "350/350 [==============================] - 6s 17ms/step - loss: 0.6055 - accuracy: 0.7409 - val_loss: 0.5976 - val_accuracy: 0.7571\n",
      "Epoch 7/3500\n",
      "350/350 [==============================] - 6s 16ms/step - loss: 0.6045 - accuracy: 0.7428 - val_loss: 0.5948 - val_accuracy: 0.7543\n",
      "Epoch 8/3500\n",
      "350/350 [==============================] - 6s 17ms/step - loss: 0.6005 - accuracy: 0.7476 - val_loss: 0.5987 - val_accuracy: 0.7345\n",
      "Epoch 9/3500\n",
      "350/350 [==============================] - 6s 16ms/step - loss: 0.6006 - accuracy: 0.7444 - val_loss: 0.5917 - val_accuracy: 0.7465\n",
      "Epoch 10/3500\n",
      "350/350 [==============================] - 6s 16ms/step - loss: 0.5994 - accuracy: 0.7431 - val_loss: 0.5926 - val_accuracy: 0.7522\n",
      "Epoch 11/3500\n",
      "350/350 [==============================] - 6s 17ms/step - loss: 0.6003 - accuracy: 0.7433 - val_loss: 0.5949 - val_accuracy: 0.7440\n",
      "Epoch 12/3500\n",
      "350/350 [==============================] - 6s 16ms/step - loss: 0.5989 - accuracy: 0.7411 - val_loss: 0.5935 - val_accuracy: 0.7505\n",
      "Epoch 13/3500\n",
      "350/350 [==============================] - 6s 17ms/step - loss: 0.6004 - accuracy: 0.7445 - val_loss: 0.5922 - val_accuracy: 0.7482\n",
      "Epoch 14/3500\n",
      "350/350 [==============================] - 6s 17ms/step - loss: 0.5996 - accuracy: 0.7428 - val_loss: 0.5896 - val_accuracy: 0.7488\n",
      "Epoch 15/3500\n",
      "350/350 [==============================] - 6s 16ms/step - loss: 0.5983 - accuracy: 0.7421 - val_loss: 0.5910 - val_accuracy: 0.7547\n",
      "Epoch 16/3500\n",
      "350/350 [==============================] - 6s 16ms/step - loss: 0.5993 - accuracy: 0.7438 - val_loss: 0.5878 - val_accuracy: 0.7522\n",
      "Epoch 17/3500\n",
      "350/350 [==============================] - 6s 16ms/step - loss: 0.5984 - accuracy: 0.7450 - val_loss: 0.5927 - val_accuracy: 0.7558\n",
      "Epoch 18/3500\n",
      "350/350 [==============================] - 6s 16ms/step - loss: 0.5994 - accuracy: 0.7453 - val_loss: 0.5877 - val_accuracy: 0.7495\n",
      "Epoch 19/3500\n",
      "350/350 [==============================] - 6s 17ms/step - loss: 0.5972 - accuracy: 0.7490 - val_loss: 0.5879 - val_accuracy: 0.7419\n",
      "Epoch 20/3500\n",
      "350/350 [==============================] - 6s 17ms/step - loss: 0.6000 - accuracy: 0.7457 - val_loss: 0.5929 - val_accuracy: 0.7522\n",
      "Epoch 21/3500\n",
      "350/350 [==============================] - 6s 16ms/step - loss: 0.5965 - accuracy: 0.7451 - val_loss: 0.5931 - val_accuracy: 0.7571\n",
      "Epoch 22/3500\n",
      "350/350 [==============================] - 6s 16ms/step - loss: 0.5976 - accuracy: 0.7454 - val_loss: 0.5861 - val_accuracy: 0.7566\n",
      "Epoch 23/3500\n",
      "350/350 [==============================] - 6s 17ms/step - loss: 0.5977 - accuracy: 0.7444 - val_loss: 0.5898 - val_accuracy: 0.7425\n",
      "Epoch 24/3500\n",
      "350/350 [==============================] - 6s 16ms/step - loss: 0.5982 - accuracy: 0.7470 - val_loss: 0.5901 - val_accuracy: 0.7501\n",
      "Epoch 25/3500\n",
      "350/350 [==============================] - 6s 17ms/step - loss: 0.5948 - accuracy: 0.7463 - val_loss: 0.5875 - val_accuracy: 0.7560\n",
      "Epoch 26/3500\n",
      "350/350 [==============================] - 6s 17ms/step - loss: 0.5961 - accuracy: 0.7507 - val_loss: 0.5857 - val_accuracy: 0.7547\n",
      "Epoch 27/3500\n",
      "350/350 [==============================] - 6s 17ms/step - loss: 0.5975 - accuracy: 0.7428 - val_loss: 0.5917 - val_accuracy: 0.7493\n",
      "Epoch 28/3500\n",
      "350/350 [==============================] - 6s 17ms/step - loss: 0.5980 - accuracy: 0.7411 - val_loss: 0.5936 - val_accuracy: 0.7518\n",
      "Epoch 29/3500\n",
      "350/350 [==============================] - 6s 17ms/step - loss: 0.5988 - accuracy: 0.7438 - val_loss: 0.5881 - val_accuracy: 0.7571\n",
      "Epoch 30/3500\n",
      "350/350 [==============================] - 6s 17ms/step - loss: 0.5959 - accuracy: 0.7456 - val_loss: 0.6051 - val_accuracy: 0.7368\n",
      "Epoch 31/3500\n",
      "350/350 [==============================] - 6s 17ms/step - loss: 0.5989 - accuracy: 0.7421 - val_loss: 0.5897 - val_accuracy: 0.7463\n",
      "Epoch 32/3500\n",
      "350/350 [==============================] - 6s 17ms/step - loss: 0.5960 - accuracy: 0.7471 - val_loss: 0.5847 - val_accuracy: 0.7539\n",
      "Epoch 33/3500\n",
      "350/350 [==============================] - 6s 16ms/step - loss: 0.5960 - accuracy: 0.7467 - val_loss: 0.5900 - val_accuracy: 0.7463\n",
      "Epoch 34/3500\n",
      "350/350 [==============================] - 6s 16ms/step - loss: 0.5975 - accuracy: 0.7435 - val_loss: 0.5872 - val_accuracy: 0.7499\n",
      "Epoch 35/3500\n",
      "350/350 [==============================] - 6s 16ms/step - loss: 0.5961 - accuracy: 0.7442 - val_loss: 0.5952 - val_accuracy: 0.7385\n",
      "Epoch 36/3500\n",
      "350/350 [==============================] - 6s 17ms/step - loss: 0.5946 - accuracy: 0.7460 - val_loss: 0.5868 - val_accuracy: 0.7482\n",
      "Epoch 37/3500\n",
      "350/350 [==============================] - 6s 16ms/step - loss: 0.5961 - accuracy: 0.7453 - val_loss: 0.5888 - val_accuracy: 0.7469\n",
      "Epoch 38/3500\n",
      "350/350 [==============================] - 6s 16ms/step - loss: 0.5956 - accuracy: 0.7436 - val_loss: 0.5971 - val_accuracy: 0.7442\n",
      "Epoch 39/3500\n",
      "350/350 [==============================] - 6s 17ms/step - loss: 0.5959 - accuracy: 0.7468 - val_loss: 0.5883 - val_accuracy: 0.7509\n",
      "Epoch 40/3500\n",
      "350/350 [==============================] - 6s 16ms/step - loss: 0.5968 - accuracy: 0.7467 - val_loss: 0.5867 - val_accuracy: 0.7450\n",
      "Epoch 41/3500\n",
      "350/350 [==============================] - 6s 16ms/step - loss: 0.5951 - accuracy: 0.7429 - val_loss: 0.5861 - val_accuracy: 0.7505\n",
      "Epoch 42/3500\n",
      "350/350 [==============================] - 6s 17ms/step - loss: 0.5965 - accuracy: 0.7454 - val_loss: 0.5836 - val_accuracy: 0.7573\n",
      "Epoch 43/3500\n",
      "350/350 [==============================] - 6s 17ms/step - loss: 0.5964 - accuracy: 0.7429 - val_loss: 0.5860 - val_accuracy: 0.7497\n",
      "Epoch 44/3500\n",
      "350/350 [==============================] - 6s 17ms/step - loss: 0.5934 - accuracy: 0.7479 - val_loss: 0.5825 - val_accuracy: 0.7541\n",
      "Epoch 45/3500\n",
      "350/350 [==============================] - 6s 17ms/step - loss: 0.5960 - accuracy: 0.7457 - val_loss: 0.5891 - val_accuracy: 0.7436\n",
      "Epoch 46/3500\n",
      "350/350 [==============================] - 6s 17ms/step - loss: 0.5953 - accuracy: 0.7438 - val_loss: 0.5877 - val_accuracy: 0.7524\n",
      "Epoch 47/3500\n",
      "350/350 [==============================] - 6s 17ms/step - loss: 0.5966 - accuracy: 0.7450 - val_loss: 0.5871 - val_accuracy: 0.7556\n",
      "Epoch 48/3500\n",
      "350/350 [==============================] - 6s 17ms/step - loss: 0.5950 - accuracy: 0.7437 - val_loss: 0.5930 - val_accuracy: 0.7400\n",
      "Epoch 49/3500\n",
      "350/350 [==============================] - 6s 17ms/step - loss: 0.5953 - accuracy: 0.7429 - val_loss: 0.5842 - val_accuracy: 0.7581\n",
      "Epoch 50/3500\n",
      "350/350 [==============================] - 6s 17ms/step - loss: 0.5981 - accuracy: 0.7458 - val_loss: 0.5848 - val_accuracy: 0.7514\n",
      "Epoch 51/3500\n",
      "350/350 [==============================] - 6s 17ms/step - loss: 0.5963 - accuracy: 0.7471 - val_loss: 0.5867 - val_accuracy: 0.7516\n",
      "Epoch 52/3500\n",
      "350/350 [==============================] - 6s 17ms/step - loss: 0.5951 - accuracy: 0.7463 - val_loss: 0.5880 - val_accuracy: 0.7486\n",
      "Epoch 53/3500\n",
      "350/350 [==============================] - 6s 17ms/step - loss: 0.5955 - accuracy: 0.7442 - val_loss: 0.5878 - val_accuracy: 0.7461\n",
      "Epoch 54/3500\n",
      "350/350 [==============================] - 6s 17ms/step - loss: 0.5949 - accuracy: 0.7498 - val_loss: 0.5855 - val_accuracy: 0.7583\n",
      "Epoch 55/3500\n",
      "350/350 [==============================] - 6s 17ms/step - loss: 0.5950 - accuracy: 0.7433 - val_loss: 0.6012 - val_accuracy: 0.7404\n",
      "Epoch 56/3500\n",
      "350/350 [==============================] - 6s 17ms/step - loss: 0.5953 - accuracy: 0.7452 - val_loss: 0.5833 - val_accuracy: 0.7501\n",
      "Epoch 57/3500\n",
      "350/350 [==============================] - 6s 17ms/step - loss: 0.5926 - accuracy: 0.7475 - val_loss: 0.5878 - val_accuracy: 0.7505\n",
      "Epoch 58/3500\n",
      "350/350 [==============================] - 6s 17ms/step - loss: 0.5958 - accuracy: 0.7434 - val_loss: 0.5890 - val_accuracy: 0.7556\n",
      "Epoch 59/3500\n",
      "350/350 [==============================] - 6s 17ms/step - loss: 0.5976 - accuracy: 0.7433 - val_loss: 0.5854 - val_accuracy: 0.7531\n",
      "Epoch 60/3500\n",
      "350/350 [==============================] - 6s 17ms/step - loss: 0.5950 - accuracy: 0.7452 - val_loss: 0.5896 - val_accuracy: 0.7453\n",
      "Epoch 61/3500\n",
      "350/350 [==============================] - 6s 17ms/step - loss: 0.5961 - accuracy: 0.7443 - val_loss: 0.5877 - val_accuracy: 0.7583\n",
      "Epoch 62/3500\n",
      "350/350 [==============================] - 6s 17ms/step - loss: 0.5934 - accuracy: 0.7478 - val_loss: 0.5878 - val_accuracy: 0.7446\n",
      "Epoch 63/3500\n",
      "350/350 [==============================] - 6s 17ms/step - loss: 0.5940 - accuracy: 0.7473 - val_loss: 0.5851 - val_accuracy: 0.7497\n",
      "Epoch 64/3500\n",
      "350/350 [==============================] - 6s 17ms/step - loss: 0.5952 - accuracy: 0.7458 - val_loss: 0.5859 - val_accuracy: 0.7541\n",
      "Epoch 64: early stopping\n"
     ]
    }
   ],
   "source": [
    "# Train the Model\n",
    "\n",
    "trained_model= model.fit(X_train_ros,Y_train_ros,batch_size=32,epochs=3500,\n",
    "                          validation_data=(X_test_ros,Y_test_ros),callbacks=callback)"
   ]
  },
  {
   "cell_type": "code",
   "execution_count": 181,
   "metadata": {
    "colab": {
     "base_uri": "https://localhost:8080/",
     "height": 0
    },
    "id": "I-3AeCjPo2lh",
    "outputId": "b173f910-029c-4fc4-936d-bf37e6e6a07c"
   },
   "outputs": [
    {
     "name": "stdout",
     "output_type": "stream",
     "text": [
      "350/350 [==============================] - 1s 4ms/step - loss: 0.5821 - accuracy: 0.7520\n",
      "Training Loss and Training Accuracy: [0.5820778012275696, 0.7519677877426147]\n",
      "350/350 [==============================] - 2s 4ms/step - loss: 0.5821 - accuracy: 0.7520\n",
      "Testing Loss and Testing Accuracy: [0.5820778012275696, 0.7519677877426147]\n"
     ]
    }
   ],
   "source": [
    "print(\"Training Loss and Training Accuracy:\",model.evaluate(X_train_ros,Y_train_ros))\n",
    "print(\"Testing Loss and Testing Accuracy:\",model.evaluate(X_train_ros,Y_train_ros))"
   ]
  },
  {
   "cell_type": "code",
   "execution_count": 182,
   "metadata": {
    "colab": {
     "base_uri": "https://localhost:8080/",
     "height": 265
    },
    "id": "qdugL1i7o2li",
    "outputId": "eeddd27c-0431-4d83-ceed-9d6d3c29f603"
   },
   "outputs": [
    {
     "data": {
      "image/png": "[encoded data removed]",
      "text/plain": [
       "<Figure size 432x288 with 1 Axes>"
      ]
     },
     "metadata": {
      "needs_background": "light"
     },
     "output_type": "display_data"
    }
   ],
   "source": [
    "# Visualisation Training and Testing Loss\n",
    "\n",
    "plt.plot(trained_model.history['loss'],label='Training Loss')\n",
    "plt.plot(trained_model.history['val_loss'],label='Testing Loss')\n",
    "plt.legend()\n",
    "plt.show()"
   ]
  },
  {
   "cell_type": "code",
   "execution_count": 183,
   "metadata": {
    "colab": {
     "base_uri": "https://localhost:8080/",
     "height": 268
    },
    "id": "vFqG6ZMQo2lj",
    "outputId": "46d5eeef-52e5-4059-bdd5-ac437c53fcb9"
   },
   "outputs": [
    {
     "data": {
      "image/png": "[encoded data removed]",
      "text/plain": [
       "<Figure size 432x288 with 1 Axes>"
      ]
     },
     "metadata": {
      "needs_background": "light"
     },
     "output_type": "display_data"
    }
   ],
   "source": [
    "# Visualisation Training and Testing Accuracy\n",
    "\n",
    "plt.plot(trained_model.history['accuracy'],label='Training Accuracy')\n",
    "plt.plot(trained_model.history['val_accuracy'],label='Testing Accuracy')\n",
    "plt.legend()\n",
    "plt.show()"
   ]
  },
  {
   "cell_type": "code",
   "execution_count": 184,
   "metadata": {
    "colab": {
     "base_uri": "https://localhost:8080/",
     "height": 0
    },
    "id": "Xzqmfp3Bo2lk",
    "outputId": "4bc1fa8f-a63b-4c63-a3c5-d895044cb208"
   },
   "outputs": [
    {
     "data": {
      "text/plain": [
       "array([[0.25],\n",
       "       [0.48],\n",
       "       [0.25],\n",
       "       ...,\n",
       "       [0.58],\n",
       "       [0.41],\n",
       "       [0.45]], dtype=float32)"
      ]
     },
     "execution_count": 184,
     "metadata": {},
     "output_type": "execute_result"
    }
   ],
   "source": [
    "# Test the model with 30% data\n",
    "\n",
    "Y_pred = model.predict(X_test_ros).round(2)\n",
    "Y_pred"
   ]
  },
  {
   "cell_type": "code",
   "execution_count": 185,
   "metadata": {
    "colab": {
     "base_uri": "https://localhost:8080/",
     "height": 0
    },
    "id": "QaniyOFbo2ll",
    "outputId": "73db22ec-614e-4502-99de-add9a72feebf"
   },
   "outputs": [
    {
     "data": {
      "text/plain": [
       "array([[0],\n",
       "       [0],\n",
       "       [0],\n",
       "       ...,\n",
       "       [1],\n",
       "       [0],\n",
       "       [0]])"
      ]
     },
     "execution_count": 185,
     "metadata": {},
     "output_type": "execute_result"
    }
   ],
   "source": [
    "Y_pred = np.where(Y_pred>=0.5,1,0)\n",
    "Y_pred"
   ]
  },
  {
   "cell_type": "code",
   "execution_count": 186,
   "metadata": {
    "colab": {
     "base_uri": "https://localhost:8080/",
     "height": 0
    },
    "id": "xRYF0UTko2ll",
    "outputId": "fcca6694-d827-4404-e499-94e593ad3dab"
   },
   "outputs": [
    {
     "name": "stdout",
     "output_type": "stream",
     "text": [
      "              precision    recall  f1-score   support\n",
      "\n",
      "           0       0.76      0.75      0.75      2373\n",
      "           1       0.75      0.76      0.76      2373\n",
      "\n",
      "    accuracy                           0.75      4746\n",
      "   macro avg       0.75      0.75      0.75      4746\n",
      "weighted avg       0.75      0.75      0.75      4746\n",
      "\n",
      "[[1772  601]\n",
      " [ 566 1807]]\n"
     ]
    }
   ],
   "source": [
    "from sklearn.metrics import classification_report,confusion_matrix\n",
    "print(classification_report(Y_test_ros,Y_pred))\n",
    "print(confusion_matrix(Y_test_ros,Y_pred))"
   ]
  },
  {
   "cell_type": "markdown",
   "metadata": {},
   "source": [
    "<b><span style=font-size:20px>- <font color='LimeGreen'>Conclusion.</font></span></b>\n",
    "- After applying Dropout we got better percentage as what we had applied using Regularization."
   ]
  },
  {
   "cell_type": "markdown",
   "metadata": {},
   "source": [
    " "
   ]
  }
 ],
 "metadata": {
  "colab": {
   "collapsed_sections": [],
   "name": "06. DeepLearning_Project.ipynb",
   "provenance": []
  },
  "kernelspec": {
   "display_name": "Python 3 (ipykernel)",
   "language": "python",
   "name": "python3"
  },
  "language_info": {
   "codemirror_mode": {
    "name": "ipython",
    "version": 3
   },
   "file_extension": ".py",
   "mimetype": "text/x-python",
   "name": "python",
   "nbconvert_exporter": "python",
   "pygments_lexer": "ipython3",
   "version": "3.9.7"
  }
 },
 "nbformat": 4,
 "nbformat_minor": 1
}
